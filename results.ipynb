{
 "cells": [
  {
   "cell_type": "markdown",
   "id": "9ba97fe7",
   "metadata": {},
   "source": [
    "To begin with we need to import the models we are testing, and some additional libraries/functions"
   ]
  },
  {
   "cell_type": "code",
   "execution_count": 1,
   "id": "262a67c3",
   "metadata": {},
   "outputs": [],
   "source": [
    "from models import ClassifierWrapper, ClusteringWrapper, train_model,set_defaults,set_log_level, use_accel\n",
    "from datagen import generate_classification_data, generate_clustering_data\n",
    "from sklearn.model_selection import train_test_split\n",
    "use_accel(False)\n",
    "set_log_level(\"DEBUG\")"
   ]
  },
  {
   "cell_type": "markdown",
   "id": "253ed27a",
   "metadata": {},
   "source": [
    "Now we define our syntethic dataset"
   ]
  },
  {
   "cell_type": "code",
   "execution_count": 2,
   "id": "45cdeed3",
   "metadata": {},
   "outputs": [],
   "source": [
    "classifierXY = generate_classification_data(n_samples=10_000, n_features=20, n_informative=15, n_classes=2,sparsity=0.0, random_state=42)\n",
    "classifierSplit = train_test_split(classifierXY[0], classifierXY[1], test_size=0.2, random_state=42)\n",
    "clusteringXY = generate_clustering_data(n_samples=100_000, n_features=50, centers=10, cluster_std=1.0, random_state=42)\n"
   ]
  },
  {
   "cell_type": "markdown",
   "id": "efe3ad34",
   "metadata": {},
   "source": [
    "Subsequently we define the model parameters and models used for testing.\n"
   ]
  },
  {
   "cell_type": "code",
   "execution_count": 3,
   "id": "e803d2b1",
   "metadata": {},
   "outputs": [],
   "source": [
    "SEED = 42\n",
    "\n",
    "setting={\n",
    "    \"classifier\": {\n",
    "        \"estimator_name\": \"random_forest\",\n",
    "        \"use_scaler\": True,\n",
    "        \"random_state\": SEED,\n",
    "        \"n_estimators\": 100,\n",
    "        \"max_iter\": 1000,\n",
    "        \"probability\": True,\n",
    "    },\n",
    "    \"clustering\": {\n",
    "        \"algorithm_name\": \"kmeans\",\n",
    "        \"n_clusters\": 3,\n",
    "        \"use_scaler\": True,\n",
    "        \"random_state\": SEED,\n",
    "        \"algorithm_params\": None,\n",
    "    },\n",
    "}\n",
    "set_defaults(setting)\n",
    "\n",
    "rfc = ClassifierWrapper()\n",
    "kmc = ClusteringWrapper()"
   ]
  },
  {
   "cell_type": "code",
   "execution_count": 5,
   "id": "3be48826",
   "metadata": {},
   "outputs": [
    {
     "ename": "UnboundLocalError",
     "evalue": "cannot access local variable 'warmup_total' where it is not associated with a value",
     "output_type": "error",
     "traceback": [
      "\u001b[31m---------------------------------------------------------------------------\u001b[39m",
      "\u001b[31mUnboundLocalError\u001b[39m                         Traceback (most recent call last)",
      "\u001b[36mCell\u001b[39m\u001b[36m \u001b[39m\u001b[32mIn[5]\u001b[39m\u001b[32m, line 1\u001b[39m\n\u001b[32m----> \u001b[39m\u001b[32m1\u001b[39m resultClassifier=\u001b[43mtrain_model\u001b[49m\u001b[43m(\u001b[49m\u001b[43mmodel\u001b[49m\u001b[43m=\u001b[49m\u001b[43mrfc\u001b[49m\u001b[43m,\u001b[49m\u001b[43mX\u001b[49m\u001b[43m=\u001b[49m\u001b[43mclassifierSplit\u001b[49m\u001b[43m[\u001b[49m\u001b[32;43m0\u001b[39;49m\u001b[43m]\u001b[49m\u001b[43m,\u001b[49m\u001b[43my\u001b[49m\u001b[43m=\u001b[49m\u001b[43mclassifierSplit\u001b[49m\u001b[43m[\u001b[49m\u001b[32;43m2\u001b[39;49m\u001b[43m]\u001b[49m\u001b[43m,\u001b[49m\u001b[43mX_val\u001b[49m\u001b[43m=\u001b[49m\u001b[43mclassifierSplit\u001b[49m\u001b[43m[\u001b[49m\u001b[32;43m1\u001b[39;49m\u001b[43m]\u001b[49m\u001b[43m,\u001b[49m\u001b[43my_val\u001b[49m\u001b[43m=\u001b[49m\u001b[43mclassifierSplit\u001b[49m\u001b[43m[\u001b[49m\u001b[32;43m3\u001b[39;49m\u001b[43m]\u001b[49m\u001b[43m,\u001b[49m\u001b[43mtiming\u001b[49m\u001b[43m=\u001b[49m\u001b[38;5;28;43;01mTrue\u001b[39;49;00m\u001b[43m)\u001b[49m\n\u001b[32m      2\u001b[39m resultClustering=train_model(kmc,X=clusteringXY[\u001b[32m0\u001b[39m],timing=\u001b[38;5;28;01mTrue\u001b[39;00m)\n\u001b[32m      3\u001b[39m \u001b[38;5;28mprint\u001b[39m(\u001b[33m\"\u001b[39m\u001b[33mClassifier results:\u001b[39m\u001b[33m\"\u001b[39m, resultClassifier)\n",
      "\u001b[36mFile \u001b[39m\u001b[32m/mnt/c/Users/kylia/OneDrive - University of Luxembourg/S5/BSP/BSP-S5-cuML/models.py:331\u001b[39m, in \u001b[36mtrain_model\u001b[39m\u001b[34m(model, X, y, X_val, y_val, trials, warmups, metric, random_state, timing)\u001b[39m\n\u001b[32m    329\u001b[39m             model.fit(X, y)\n\u001b[32m    330\u001b[39m         t1 = time.perf_counter()\n\u001b[32m--> \u001b[39m\u001b[32m331\u001b[39m         \u001b[43mwarmup_total\u001b[49m += (t1 - t0)\n\u001b[32m    332\u001b[39m         t0 = t1\n\u001b[32m    333\u001b[39m \u001b[38;5;28;01mfor\u001b[39;00m _ \u001b[38;5;129;01min\u001b[39;00m \u001b[38;5;28mrange\u001b[39m(trials):\n",
      "\u001b[31mUnboundLocalError\u001b[39m: cannot access local variable 'warmup_total' where it is not associated with a value"
     ]
    }
   ],
   "source": [
    "resultClassifier=train_model(model=rfc,X=classifierSplit[0],y=classifierSplit[2],X_val=classifierSplit[1],y_val=classifierSplit[3],timing=True)\n",
    "resultClustering=train_model(kmc,X=clusteringXY[0],timing=True)\n",
    "print(\"Classifier results:\", resultClassifier)\n",
    "print(\"Clustering results:\", resultClustering)"
   ]
  }
 ],
 "metadata": {
  "kernelspec": {
   "display_name": ".bsp (3.12.3)",
   "language": "python",
   "name": "python3"
  },
  "language_info": {
   "codemirror_mode": {
    "name": "ipython",
    "version": 3
   },
   "file_extension": ".py",
   "mimetype": "text/x-python",
   "name": "python",
   "nbconvert_exporter": "python",
   "pygments_lexer": "ipython3",
   "version": "3.12.3"
  }
 },
 "nbformat": 4,
 "nbformat_minor": 5
}
