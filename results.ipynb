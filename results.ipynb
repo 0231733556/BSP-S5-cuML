{
 "cells": [
  {
   "cell_type": "markdown",
   "id": "9ba97fe7",
   "metadata": {},
   "source": [
    "To begin with we need to import the models we are testing, and some additional libraries/functions"
   ]
  },
  {
   "cell_type": "code",
   "execution_count": 1,
   "id": "262a67c3",
   "metadata": {},
   "outputs": [],
   "source": [
    "from models import ClassifierWrapper, ClusteringWrapper\n",
    "from datagen import generate_classification_data, generate_clustering_data\n",
    "from sklearn.model_selection import train_test_split\n",
    "\n"
   ]
  },
  {
   "cell_type": "markdown",
   "id": "253ed27a",
   "metadata": {},
   "source": [
    "Now we define our syntethic dataset"
   ]
  },
  {
   "cell_type": "code",
   "execution_count": 3,
   "id": "45cdeed3",
   "metadata": {},
   "outputs": [],
   "source": [
    "x,y = generate_classification_data(n_samples=10000, n_features=20, n_informative=15, n_classes=2,sparsity=0.0, random_state=42)\n",
    "X_train, X_test, y_train, y_test = train_test_split(x, y, test_size=0.2, random_state=42)"
   ]
  }
 ],
 "metadata": {
  "kernelspec": {
   "display_name": ".bsp (3.12.3)",
   "language": "python",
   "name": "python3"
  },
  "language_info": {
   "codemirror_mode": {
    "name": "ipython",
    "version": 3
   },
   "file_extension": ".py",
   "mimetype": "text/x-python",
   "name": "python",
   "nbconvert_exporter": "python",
   "pygments_lexer": "ipython3",
   "version": "3.12.3"
  }
 },
 "nbformat": 4,
 "nbformat_minor": 5
}
