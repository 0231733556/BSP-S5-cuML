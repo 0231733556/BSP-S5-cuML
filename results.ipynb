{
 "cells": [
  {
   "cell_type": "markdown",
   "id": "9ba97fe7",
   "metadata": {},
   "source": [
    "To begin with we need to import the models we are testing, and some additional libraries/functions"
   ]
  },
  {
   "cell_type": "code",
   "execution_count": null,
   "id": "262a67c3",
   "metadata": {},
   "outputs": [
    {
     "name": "stderr",
     "output_type": "stream",
     "text": [
      "DEBUG:models:Loading cuML accel extension\n",
      "/mnt/c/Users/kylia/OneDrive - University of Luxembourg/S5/BSP/.bsp/lib/python3.12/site-packages/cudf/utils/gpu_utils.py:162: UserWarning: No NVIDIA GPU detected\n",
      "  warnings.warn(\"No NVIDIA GPU detected\")\n"
     ]
    },
    {
     "name": "stdout",
     "output_type": "stream",
     "text": [
      "[cuml.accel] Failed to check cudaDevAttrConcurrentManagedAccess with error 35\n"
     ]
    }
   ],
   "source": [
    "from models import ClassifierWrapper, ClusteringWrapper, train_model,set_defaults,set_log_level, use_accel\n",
    "from datagen import generate_classification_data, generate_clustering_data\n",
    "from sklearn.model_selection import train_test_split\n",
    "use_accel(False)\n",
    "set_log_level(\"DEBUG\")"
   ]
  },
  {
   "cell_type": "markdown",
   "id": "253ed27a",
   "metadata": {},
   "source": [
    "Now we define our syntethic dataset"
   ]
  },
  {
   "cell_type": "code",
   "execution_count": 3,
   "id": "45cdeed3",
   "metadata": {},
   "outputs": [],
   "source": [
    "classifierXY = generate_classification_data(n_samples=10_000, n_features=20, n_informative=15, n_classes=2,sparsity=0.0, random_state=42)\n",
    "classifierSplit = train_test_split(classifierXY[0], classifierXY[1], test_size=0.2, random_state=42)\n",
    "clusteringXY = generate_clustering_data(n_samples=100_000, n_features=50, centers=10, cluster_std=1.0, random_state=42)\n"
   ]
  },
  {
   "cell_type": "markdown",
   "id": "efe3ad34",
   "metadata": {},
   "source": [
    "Subsequently we define the model parameters and models used for testing.\n"
   ]
  },
  {
   "cell_type": "code",
   "execution_count": 4,
   "id": "e803d2b1",
   "metadata": {},
   "outputs": [],
   "source": [
    "SEED = 42\n",
    "\n",
    "setting={\n",
    "    \"classifier\": {\n",
    "        \"estimator_name\": \"random_forest\",\n",
    "        \"use_scaler\": True,\n",
    "        \"random_state\": SEED,\n",
    "        \"n_estimators\": 100,\n",
    "        \"max_iter\": 1000,\n",
    "        \"probability\": True,\n",
    "    },\n",
    "    \"clustering\": {\n",
    "        \"algorithm_name\": \"kmeans\",\n",
    "        \"n_clusters\": 3,\n",
    "        \"use_scaler\": True,\n",
    "        \"random_state\": SEED,\n",
    "        \"algorithm_params\": None,\n",
    "    },\n",
    "}\n",
    "set_defaults(setting)\n",
    "\n",
    "rfc = ClassifierWrapper()\n",
    "kmc = ClusteringWrapper()"
   ]
  },
  {
   "cell_type": "code",
   "execution_count": 5,
   "id": "3be48826",
   "metadata": {},
   "outputs": [
    {
     "name": "stdout",
     "output_type": "stream",
     "text": [
      "Classifier results: {'times': [2.8124185319993558], 'median': 2.8124185319993558, 'mean': 2.8124185319993558, 'std': 0.0}\n",
      "Clustering results: {'times': [1.738973117999194], 'median': 1.738973117999194, 'mean': 1.738973117999194, 'std': 0.0}\n"
     ]
    }
   ],
   "source": [
    "resultClassifier=train_model(model=rfc,X=classifierSplit[0],y=classifierSplit[2],X_val=classifierSplit[1],y_val=classifierSplit[3])\n",
    "resultClustering=train_model(kmc,X=clusteringXY[0])\n",
    "print(\"Classifier results:\", resultClassifier)\n",
    "print(\"Clustering results:\", resultClustering)"
   ]
  }
 ],
 "metadata": {
  "kernelspec": {
   "display_name": ".bsp (3.12.3)",
   "language": "python",
   "name": "python3"
  },
  "language_info": {
   "codemirror_mode": {
    "name": "ipython",
    "version": 3
   },
   "file_extension": ".py",
   "mimetype": "text/x-python",
   "name": "python",
   "nbconvert_exporter": "python",
   "pygments_lexer": "ipython3",
   "version": "3.12.3"
  }
 },
 "nbformat": 4,
 "nbformat_minor": 5
}
