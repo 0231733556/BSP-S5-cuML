{
 "cells": [
  {
   "cell_type": "markdown",
   "id": "9ba97fe7",
   "metadata": {},
   "source": [
    "To begin with we need to import the models we are testing"
   ]
  },
  {
   "cell_type": "code",
   "execution_count": null,
   "id": "262a67c3",
   "metadata": {},
   "outputs": [],
   "source": [
    "\n",
    "from models import ClassifierWrapper, ClusteringWrapper\n",
    "from datagen import generate_classification_data, generate_clustering_data\n",
    "\n",
    "\n"
   ]
  }
 ],
 "metadata": {
  "language_info": {
   "name": "python"
  }
 },
 "nbformat": 4,
 "nbformat_minor": 5
}
